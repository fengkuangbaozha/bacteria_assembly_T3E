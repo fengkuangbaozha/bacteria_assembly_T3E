{
 "metadata": {
  "name": "",
  "signature": "sha256:7e333b840eab1dc7307990d6585c461f4b7bacce33afac9b32f68ba1b7c12e33"
 },
 "nbformat": 3,
 "nbformat_minor": 0,
 "worksheets": [
  {
   "cells": [
    {
     "cell_type": "heading",
     "level": 1,
     "metadata": {},
     "source": [
      "Genome Sequencing and Analyses of Ralstonia solanacearum Phylotype I Strains FJAT-91, FJAT-452 and FJAT-462 Isolated from Tomato, Eggplant, and Chilli Pepper in China"
     ]
    },
    {
     "cell_type": "heading",
     "level": 4,
     "metadata": {},
     "source": [
      "Abstract: Ralstonia solanacearum is an extremely destructive pathogen able to cause disease in a wide range of host plants. Here we report the draft genome sequences of the strains FJAT-91, FJAT-452 and FJAT-462, isolated from tomato, eggplant, and chilli pepper, respectively, in China. We de novo assembled genome sequences of these three strains with SOAPdenovo2 and built a species tree with PHYML to identify their phylogenetic relationship with other strains. The assembled genomes were then annotated with Prokka. To compare their repertoires of type III effectors (T3E) with the reference strain, the following analysis are carried out: Firstly, we used blastx to identify new and missing T3E genes compared to the reference and 1-4 new effectors were found in three China strains respectively. They are further experimentally validated; Secondly, we used samtools and SNPEff to find and annotate the genome sequence variation between our three strains and the reference genome. Over 600 variation sites are found inside T3E genes for each strain and 351 variations are common in three strains. These new, missing and variant T3E genes are a good starting point for further investigations of phenotypic differences between these strains and the reference strain. "
     ]
    },
    {
     "cell_type": "heading",
     "level": 4,
     "metadata": {},
     "source": [
      "Pipeline: Firstly, we de novo assembled genomes of China strains and annotated the genome. Secondly, we explored new and missing T3E in our strains and identified T3E sequences variations compared to the reference genome."
     ]
    },
    {
     "cell_type": "heading",
     "level": 2,
     "metadata": {},
     "source": [
      "Part One. De novo genome assembly of China bacteria strains and phylogentic relationship identification"
     ]
    },
    {
     "cell_type": "heading",
     "level": 3,
     "metadata": {},
     "source": [
      "Firstly, genome assembly with SOAPdenovo2, and close the gap with GapCloser. Check the quality of assembly with quast."
     ]
    },
    {
     "cell_type": "code",
     "collapsed": false,
     "input": [
      "#!cd ~/sunyd/albert_bacteria/process"
     ],
     "language": "python",
     "metadata": {},
     "outputs": [],
     "prompt_number": 4
    },
    {
     "cell_type": "code",
     "collapsed": false,
     "input": [
      "!bash ~/sunyd/albert_bacteria/script/genome_assembly.sh ~/sunyd/albert_bacteria"
     ],
     "language": "python",
     "metadata": {},
     "outputs": [],
     "prompt_number": 3
    },
    {
     "cell_type": "heading",
     "level": 3,
     "metadata": {},
     "source": [
      "Secondly, the species tree built."
     ]
    },
    {
     "cell_type": "heading",
     "level": 4,
     "metadata": {},
     "source": [
      "For assembly strains, we used tblastn and biopython to extract the aligned sequences; for other strains, we used blastp and blastdbcmd to extract the aligned sequences. Then we used muscle to make an alignment,  Gblocks to delete unaligned sequences, and build a phylogenetic tree with phyml."
     ]
    },
    {
     "cell_type": "code",
     "collapsed": false,
     "input": [
      "#!bash ~/sunyd/albert_bacteria/script/prepare_genome_others.sh"
     ],
     "language": "python",
     "metadata": {},
     "outputs": [],
     "prompt_number": 9
    },
    {
     "cell_type": "code",
     "collapsed": false,
     "input": [
      "#!bash ~/sunyd/albert_bacteria/script/species_tree.sh ~/sunyd/albert_bacteria"
     ],
     "language": "python",
     "metadata": {},
     "outputs": [],
     "prompt_number": 1
    },
    {
     "cell_type": "heading",
     "level": 3,
     "metadata": {},
     "source": [
      "Thirdly, genome annotation was performed using Prokka with the option for non-coding RNA (ncRNA) search. The COG database and Pfam v30.0 were used for functional annotation of genes."
     ]
    },
    {
     "cell_type": "code",
     "collapsed": false,
     "input": [
      "#!bash ~/sunyd/albert_bacteria/script/prokka.sh ~/sunyd/albert_bacteria/process"
     ],
     "language": "python",
     "metadata": {},
     "outputs": [],
     "prompt_number": 1
    },
    {
     "cell_type": "code",
     "collapsed": false,
     "input": [
      "#!bash ~/sunyd/albert_bacteria/script/prokka_result_calculation.sh ~/sunyd/albert_bacteria/process"
     ],
     "language": "python",
     "metadata": {},
     "outputs": [],
     "prompt_number": 2
    },
    {
     "cell_type": "heading",
     "level": 2,
     "metadata": {},
     "source": [
      "Part Two. Compare the repertoire of type-III effectors between China strains and the reference strain."
     ]
    },
    {
     "cell_type": "heading",
     "level": 3,
     "metadata": {},
     "source": [
      "Firstly, identify type-III effectors in China strains."
     ]
    },
    {
     "cell_type": "heading",
     "level": 4,
     "metadata": {},
     "source": [
      "Type III effectors in the three newly sequenced strains were identified and annotated in two steps: First, 54, 64 and 62 of the T3Es from the R. solanacearum species complex were identified in FJAT-91\uff0cFJAT-452 and FJAT-452, respectively, based on Prokka annotations. Second, the assembled genome sequences of three strains were BLAST to T3Es protein sequences with the e-value cut-off of 1e-35, and 74, 76 and 77 T3Es are identified in FJAT-91, FJAT-452 and FJAT-462, respectively."
     ]
    },
    {
     "cell_type": "code",
     "collapsed": false,
     "input": [
      "#!bash ~/sunyd/albert_bacteria/script/t3e_identification.sh ~/sunyd/albert_bacteria/process"
     ],
     "language": "python",
     "metadata": {},
     "outputs": [],
     "prompt_number": 5
    },
    {
     "cell_type": "heading",
     "level": 3,
     "metadata": {},
     "source": [
      "Secondly, identify new and missing type III effectors compared to reference genome GMI1000 with BLAST."
     ]
    },
    {
     "cell_type": "code",
     "collapsed": false,
     "input": [
      "!bash ~/sunyd/albert_bacteria/script/new_missing_t3e.sh ~/sunyd/albert_bacteria"
     ],
     "language": "python",
     "metadata": {},
     "outputs": [],
     "prompt_number": 7
    },
    {
     "cell_type": "heading",
     "level": 3,
     "metadata": {},
     "source": [
      "Thirdly, Compare type III effectors variations (SNPs and INDELs) between China strains and GMI1000."
     ]
    },
    {
     "cell_type": "heading",
     "level": 4,
     "metadata": {},
     "source": [
      "1. Download Ralstonia solanacearum GMI1000  genome and annotation from EMBL and T3E sequences from ralstoT3E website."
     ]
    },
    {
     "cell_type": "code",
     "collapsed": false,
     "input": [
      "#!bash ~/sunyd/albert_bacteria/script/prepare_t3e_GMI1000.sh"
     ],
     "language": "python",
     "metadata": {},
     "outputs": [],
     "prompt_number": 6
    },
    {
     "cell_type": "heading",
     "level": 4,
     "metadata": {},
     "source": [
      "2. Analyze SNPs and INDELs between China strains and GMI1000. Firstly, clean reads with SolexaQA and cutadapter. Secondly, map the reads to GMI1000 genome with BWA. Thirdly, identify SNPs and INDELs and only keep high quality ones with samtools. Forthly, annotate variation with snpEff. Fifthly, compare variation among three China strains. Sixthly, annotate the variation type."
     ]
    },
    {
     "cell_type": "code",
     "collapsed": false,
     "input": [
      "#!bash ~/sunyd/albert_bacteria/script/snpeff_GMI1000.sh #####build the effector gtf, an independent database in snpEff#######"
     ],
     "language": "python",
     "metadata": {},
     "outputs": [],
     "prompt_number": 11
    },
    {
     "cell_type": "code",
     "collapsed": false,
     "input": [
      "#!bash ~/sunyd/albert_bacteria/script/genomic_variation.sh ~/sunyd/albert_bacteria/process"
     ],
     "language": "python",
     "metadata": {},
     "outputs": [],
     "prompt_number": 8
    },
    {
     "cell_type": "code",
     "collapsed": false,
     "input": [
      "#!bash ~/sunyd/albert_bacteria/script/check_variation.sh ~/sunyd/albert_bacteria/process"
     ],
     "language": "python",
     "metadata": {},
     "outputs": [],
     "prompt_number": 7
    },
    {
     "cell_type": "heading",
     "level": 3,
     "metadata": {},
     "source": [
      "Notice: our partner is responsible for the genome sequencing and following experimental validation."
     ]
    }
   ],
   "metadata": {}
  }
 ]
}