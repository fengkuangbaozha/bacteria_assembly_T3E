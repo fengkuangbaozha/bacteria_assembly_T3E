{
 "metadata": {
  "name": "",
  "signature": "sha256:c5421a220c32678566a482102e1ec587892adf707209912e96b5b423d0619bb9"
 },
 "nbformat": 3,
 "nbformat_minor": 0,
 "worksheets": [
  {
   "cells": [
    {
     "cell_type": "heading",
     "level": 1,
     "metadata": {},
     "source": [
      "De novo genome assembly and Type-III effectors variation analysis of Ralstonia solanacearum strains from China"
     ]
    },
    {
     "cell_type": "heading",
     "level": 4,
     "metadata": {},
     "source": [
      "Abstract: Three China bacterial strains of Ralstonia solanacearum (AML452, AML462 and AML91) are found to infect tomato in field and their pathogenicity in tomato is further confirmed in laboratory conditions. The goal of this project is to determine the genome sequence of these three China strains and compare their repertoires of type III effectors with other strains. We de novo assembled genome sequences of these three strains with SOAPdenovo2 and built a species tree with PHYML to identify their phylogenetic relationship with other strains. Then the repertoire of type III effectors (T3E) were analyzed in three strains and compared with other strains: Firstly, we used blastx to identify new and missing T3E genes compared to the reference and 1-4 new effectors were found in three China strains respectively; Secondly, we used samtools and SNPEff to find and annotate the genome sequence variation between three strains and the reference genome. Over 10,000 variation sites (SNPs and INDELs) are found in the genome wide and over 400 variation sites are found inside T3E genes for each strain. These variations may result in differences of bacteria pathogenicity. "
     ]
    },
    {
     "cell_type": "heading",
     "level": 4,
     "metadata": {},
     "source": [
      "Pipeline: Firstly, we de novo assembled genomes of China strains and identified their phylogentic relationship. Secondly, we explored new T3E in China strains compared to reference genome and identified T3E sequences variations between China strains and others ."
     ]
    },
    {
     "cell_type": "heading",
     "level": 2,
     "metadata": {},
     "source": [
      "Part One. De novo genome assembly of China bacteria strains and phylogentic relationship identification"
     ]
    },
    {
     "cell_type": "heading",
     "level": 3,
     "metadata": {},
     "source": [
      "Firstly, genome assembly with SOAPdenovo2, and close the gap with GapCloser. Check the quality of assembly with quast."
     ]
    },
    {
     "cell_type": "code",
     "collapsed": false,
     "input": [
      "#!bash ~/sunyd/albert_bacteria/script/clean_reads.sh ~/sunyd/albert_bacteria\n",
      "!bash ~/sunyd/albert_bacteria/script/genome_assembly.sh ~/sunyd/albert_bacteria"
     ],
     "language": "python",
     "metadata": {},
     "outputs": [],
     "prompt_number": 3
    },
    {
     "cell_type": "heading",
     "level": 3,
     "metadata": {},
     "source": [
      "Secondly, build a species tree: for assembly strains, we used tblastn and biopython to extract the aligned sequences; for other strains, we used blastp and blastdbcmd to extract the aligned sequences. Then we used muscle to make an alignment,  Gblocks to delete unaligned sequences, and build a phylogenetic tree with phyml."
     ]
    },
    {
     "cell_type": "code",
     "collapsed": false,
     "input": [
      "#!bash ~/sunyd/albert_bacteria/script/species_tree.sh ~/sunyd/albert_bacteria"
     ],
     "language": "python",
     "metadata": {},
     "outputs": [],
     "prompt_number": 1
    },
    {
     "cell_type": "heading",
     "level": 2,
     "metadata": {},
     "source": [
      "Part Two. The repertoire of type-III effectors analysis in China strains and comparison with others"
     ]
    },
    {
     "cell_type": "heading",
     "level": 3,
     "metadata": {},
     "source": [
      "Firstly, identify type-III effectors in China strains and find new and missing ones compared to reference genome GMI1000."
     ]
    },
    {
     "cell_type": "heading",
     "level": 4,
     "metadata": {},
     "source": [
      "1. Identify type III effectors in China strains: blastx the assembly genome to ralsto website currated T3E protein sequences. Then align new type III effectors sequences among other strains with muscle."
     ]
    },
    {
     "cell_type": "code",
     "collapsed": false,
     "input": [
      "!bash ~/sunyd/albert_bacteria/script/new_missing_t3e.sh ~/sunyd/albert_bacteria"
     ],
     "language": "python",
     "metadata": {},
     "outputs": [],
     "prompt_number": 7
    },
    {
     "cell_type": "heading",
     "level": 3,
     "metadata": {},
     "source": [
      "Secondly, Compare type III effectors SNPs and INDELs between China strains and GMI1000."
     ]
    },
    {
     "cell_type": "heading",
     "level": 4,
     "metadata": {},
     "source": [
      "1. Download Ralstonia solanacearum GMI1000  genome and annotation."
     ]
    },
    {
     "cell_type": "code",
     "collapsed": false,
     "input": [
      "#http://www.ncbi.nlm.nih.gov/nuccore/AL646053.1\n",
      "#http://www.ncbi.nlm.nih.gov/nuccore/AL646052\n",
      "#!grep \">\" EMBL_GMI1000.cds.fa |cut -d \"[\" -f1,2,5 |sed 's/_/\\t/g' |sed 's/ \\[gene=/\\tgene_id \"/g' |sed 's/] /\"\\t/g' |sed 's/\\[location=//g' |sed 's/\\.\\./\\t/g' |sed 's/complement(//g' |sed 's/)//g' |sed 's/\\]//g' |sed 's/>//g' |awk '{OFS=\"\\t\"; print $1,\"EMBL\",$2,$7,$8,\".\",\".\",\".\",\"transcript_id \\\"\"$3\"\\\"; \"$5\" \"$6\";\"}' |sed 's/AL646052.1/AL646052/g' |sed 's/AL646053.1/AL646053/g' > EMBL_GMI1000.gtf   ####prepare gtf file only with protein\n",
      "#https://iant.toulouse.inra.fr/bacteria/annotation/cgi/ralso.cgi\n",
      "#!grep GMI1000 ~/sunyd/genome/ralsto_T3E/currated_cds.name |cut -d- -f1 |sort -u |sed 's/>//g' > ~/sunyd/genome/ralsto_T3E/currated_cds.name.GMI1000"
     ],
     "language": "python",
     "metadata": {},
     "outputs": [],
     "prompt_number": 2
    },
    {
     "cell_type": "heading",
     "level": 4,
     "metadata": {},
     "source": [
      "2. Identify SNPs and INDELs between China strains and GMI1000. Firstly, clean reads with SolexaQA and cutadapter. Secondly, map the reads to GMI1000 genome with BWA. Thirdly, identify SNPs and INDELs and only keep high quality ones with samtools. Forthly, annotate variation with snpEff. Fifthly, compare variation among three China strains."
     ]
    },
    {
     "cell_type": "code",
     "collapsed": false,
     "input": [
      "!bash ~/sunyd/albert_bacteria/script/genomic_variation.sh ~/sunyd/albert_bacteria"
     ],
     "language": "python",
     "metadata": {},
     "outputs": [
      {
       "output_type": "stream",
       "stream": "stdout",
       "text": [
        "[mpileup] 1 samples in 1 input files\r\n"
       ]
      },
      {
       "output_type": "stream",
       "stream": "stdout",
       "text": [
        "<mpileup> Set max per-file depth to 8000\r\n"
       ]
      },
      {
       "output_type": "stream",
       "stream": "stdout",
       "text": [
        "[bcfview] 100000 sites processed.\r\n",
        "[afs] 0:58054.822 1:10016.310 2:31928.868\r\n"
       ]
      },
      {
       "output_type": "stream",
       "stream": "stdout",
       "text": [
        "[afs] 0:5282.091 1:516.692 2:2685.218\r\n"
       ]
      },
      {
       "output_type": "stream",
       "stream": "stdout",
       "text": [
        "[mpileup] 1 samples in 1 input files\r\n"
       ]
      },
      {
       "output_type": "stream",
       "stream": "stdout",
       "text": [
        "<mpileup> Set max per-file depth to 8000\r\n"
       ]
      },
      {
       "output_type": "stream",
       "stream": "stdout",
       "text": [
        "[afs] 0:57451.736 1:8589.850 2:32865.415\r\n"
       ]
      },
      {
       "output_type": "stream",
       "stream": "stdout",
       "text": [
        "[mpileup] 1 samples in 1 input files\r\n"
       ]
      },
      {
       "output_type": "stream",
       "stream": "stdout",
       "text": [
        "<mpileup> Set max per-file depth to 8000\r\n"
       ]
      },
      {
       "output_type": "stream",
       "stream": "stdout",
       "text": [
        "[afs] 0:57589.264 1:7987.832 2:31443.904\r\n"
       ]
      }
     ],
     "prompt_number": 2
    },
    {
     "cell_type": "heading",
     "level": 3,
     "metadata": {},
     "source": [
      "Notice: our partner is responsible for the genome sequencing and following experimental validation."
     ]
    }
   ],
   "metadata": {}
  }
 ]
}